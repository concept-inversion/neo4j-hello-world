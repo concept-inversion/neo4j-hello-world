{
 "cells": [
  {
   "cell_type": "code",
   "execution_count": 4,
   "metadata": {},
   "outputs": [],
   "source": [
    "from xml.etree import ElementTree\n",
    "import pandas as pd"
   ]
  },
  {
   "cell_type": "markdown",
   "metadata": {},
   "source": [
    "# For Badges"
   ]
  },
  {
   "cell_type": "code",
   "execution_count": 5,
   "metadata": {},
   "outputs": [],
   "source": [
    "tree = ElementTree.parse('Badges.xml')\n",
    "root = tree.getroot()\n",
    "output= \"badge.csv\"\n",
    "with open(output,'w') as csvout:\n",
    "    for row in root.iter(\"row\"):\n",
    "        Id= row.get(\"Id\")\n",
    "        userid= row.get(\"UserId\")\n",
    "        name= row.get(\"Name\")\n",
    "        Date= row.get(\"Date\")\n",
    "        Class= row.get(\"Class\")\n",
    "        TagBased= row.get(\"TagBased\")\n",
    "        csvout.write('\\n{0},{1},\"{2}\",{3},{4},{5}'.format(Id,userid,name, Date, Class, TagBased))"
   ]
  },
  {
   "cell_type": "markdown",
   "metadata": {},
   "source": [
    "# For Comments"
   ]
  },
  {
   "cell_type": "code",
   "execution_count": 11,
   "metadata": {},
   "outputs": [],
   "source": [
    "tree = ElementTree.parse('Comments.xml')\n",
    "root = tree.getroot()\n",
    "output= \"Comments.csv\"\n",
    "with open(output,'w') as csvout:\n",
    "    for row in root.iter(\"row\"):\n",
    "        Id= row.get(\"Id\")\n",
    "        postid= row.get(\"PostId\")\n",
    "        score= row.get(\"Score\")\n",
    "        Text= row.get(\"Text\")\n",
    "        CreDate= row.get(\"CreationDate\")\n",
    "        Userid = row.get(\"UserId\")\n",
    "        csvout.write('\\n{0},{1},{2},{3},{4},{5}'.format(Id,postid,score,Text, CreDate, Userid))"
   ]
  },
  {
   "cell_type": "markdown",
   "metadata": {},
   "source": [
    "# For PostHistory"
   ]
  },
  {
   "cell_type": "code",
   "execution_count": 14,
   "metadata": {},
   "outputs": [],
   "source": [
    "tree = ElementTree.parse('PostHistory.xml')\n",
    "root = tree.getroot()\n",
    "output= \"PostHistory.csv\"\n",
    "with open(output,'w') as csvout:\n",
    "    for row in root.iter(\"row\"):\n",
    "        Id= row.get(\"Id\")\n",
    "        PostHistoryTypeId= row.get(\"PostHistoryTypeId\")\n",
    "        RevisionGUID= row.get(\"RevisionGUID\")\n",
    "        CreationDate= row.get(\"CreationDate\")\n",
    "        Userid = row.get(\"UserId\")\n",
    "        Text= row.get(\"Text\")\n",
    "        csvout.write('\\n{0},{1},{2},{3},{4},\"{5}\"'.format(Id,PostHistoryTypeId,RevisionGUID,CreationDate, Userid, Text))"
   ]
  },
  {
   "cell_type": "markdown",
   "metadata": {},
   "source": [
    "# For PostLinks"
   ]
  },
  {
   "cell_type": "code",
   "execution_count": 17,
   "metadata": {},
   "outputs": [],
   "source": [
    "tree = ElementTree.parse('PostLinks.xml')\n",
    "root = tree.getroot()\n",
    "output= \"PostLinks.csv\"\n",
    "with open(output,'w') as csvout:\n",
    "    for row in root.iter(\"row\"):\n",
    "        Id= row.get(\"Id\")\n",
    "        CreationDate= row.get(\"CreationDate\")\n",
    "        PostId= row.get(\"PostId\")\n",
    "        RelatedPostId= row.get(\"RelatedPostId\")\n",
    "        LinkTypeId= row.get(\"LinkTypeId\")\n",
    "        csvout.write('\\n{0},{1},{2},{3},{4}'.format(Id,CreationDate, PostId, RelatedPostId, LinkTypeId))"
   ]
  },
  {
   "cell_type": "markdown",
   "metadata": {},
   "source": [
    "# For Posts"
   ]
  },
  {
   "cell_type": "code",
   "execution_count": 23,
   "metadata": {},
   "outputs": [],
   "source": [
    "tree = ElementTree.parse('Posts.xml')\n",
    "root = tree.getroot()\n",
    "output= \"Posts.csv\"\n",
    "with open(output,'w') as csvout:\n",
    "    for row in root.iter(\"row\"):\n",
    "        Id= row.get(\"Id\")\n",
    "        PostTypeId= row.get(\"PostTypeId\")\n",
    "        AcceptedAnswerId= row.get(\"AcceptedAnswerId\")\n",
    "        CreationDate= row.get(\"CreationDate\")\n",
    "        Score= row.get(\"Score\")\n",
    "        ViewCount= row.get(\"ViewCount\")\n",
    "        Body= row.get(\"Body\")\n",
    "        OwnerUserId= row.get(\"OwnerUserId\")\n",
    "        LastEditorUserId= row.get(\"LastEditorUserId\")\n",
    "        LastEditDate= row.get(\"LastEditDate\")\n",
    "        LastActivityDate= row.get(\"LastActivityDate\")\n",
    "        Title=row.get(\"Title\")\n",
    "        Tags= row.get(\"Tags\")\n",
    "        AnswerCount= row.get(\"AnswerCount\")\n",
    "        CommentCount= row.get(\"CommentCount\")\n",
    "        \n",
    "        \n",
    "        csvout.write('\\n{0},{1},{2},{3},{4},{5},{6},{7},{8},{9},{10},{11},{12},{13},{14}'.format(Id,PostTypeId, AcceptedAnswerId, CreationDate, Score,ViewCount, Body, OwnerUserId, LastEditorUserId, LastEditDate,LastActivityDate, Title,Tags,AnswerCount,CommentCount))"
   ]
  },
  {
   "cell_type": "code",
   "execution_count": null,
   "metadata": {},
   "outputs": [],
   "source": []
  }
 ],
 "metadata": {
  "kernelspec": {
   "display_name": "Python 3",
   "language": "python",
   "name": "python3"
  },
  "language_info": {
   "codemirror_mode": {
    "name": "ipython",
    "version": 3
   },
   "file_extension": ".py",
   "mimetype": "text/x-python",
   "name": "python",
   "nbconvert_exporter": "python",
   "pygments_lexer": "ipython3",
   "version": "3.6.5"
  }
 },
 "nbformat": 4,
 "nbformat_minor": 2
}
